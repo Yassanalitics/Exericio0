{
 "cells": [
  {
   "cell_type": "markdown",
   "metadata": {},
   "source": [
    "lista de assuntos :\n",
    "* terminal \n",
    "* git github\n",
    "* basico de javascript\n",
    "* como o react native funciona\n",
    "* criar um projeto \n",
    "* instalar bibiliotecas \n",
    "* criar componentes \n",
    "* JSX\n",
    "* utilizar componentes prontos (React Native paper)\n",
    "* configurar navegação\n",
    "* criar telas \n",
    "* fazer imports\n"
   ]
  }
 ],
 "metadata": {
  "language_info": {
   "name": "python"
  }
 },
 "nbformat": 4,
 "nbformat_minor": 2
}
